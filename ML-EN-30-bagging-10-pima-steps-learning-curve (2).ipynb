{
 "cells": [
  {
   "cell_type": "code",
   "execution_count": 56,
   "metadata": {},
   "outputs": [],
   "source": [
    "import pandas as pd\n",
    "import numpy as np"
   ]
  },
  {
   "cell_type": "code",
   "execution_count": 57,
   "metadata": {},
   "outputs": [],
   "source": [
    "# Include the Bagging classifier\n",
    "from sklearn.ensemble import BaggingClassifier"
   ]
  },
  {
   "cell_type": "code",
   "execution_count": 58,
   "metadata": {},
   "outputs": [],
   "source": [
    "dataframe = pd.read_csv(\"pima.csv\")"
   ]
  },
  {
   "cell_type": "code",
   "execution_count": 59,
   "metadata": {},
   "outputs": [
    {
     "data": {
      "text/html": [
       "<div>\n",
       "<style scoped>\n",
       "    .dataframe tbody tr th:only-of-type {\n",
       "        vertical-align: middle;\n",
       "    }\n",
       "\n",
       "    .dataframe tbody tr th {\n",
       "        vertical-align: top;\n",
       "    }\n",
       "\n",
       "    .dataframe thead th {\n",
       "        text-align: right;\n",
       "    }\n",
       "</style>\n",
       "<table border=\"1\" class=\"dataframe\">\n",
       "  <thead>\n",
       "    <tr style=\"text-align: right;\">\n",
       "      <th></th>\n",
       "      <th>Pregnancies</th>\n",
       "      <th>Glucose</th>\n",
       "      <th>BloodPressure</th>\n",
       "      <th>SkinThickness</th>\n",
       "      <th>Insulin</th>\n",
       "      <th>BMI</th>\n",
       "      <th>DiabetesPedigreeFunction</th>\n",
       "      <th>Age</th>\n",
       "      <th>Outcome</th>\n",
       "    </tr>\n",
       "  </thead>\n",
       "  <tbody>\n",
       "    <tr>\n",
       "      <th>0</th>\n",
       "      <td>6</td>\n",
       "      <td>148</td>\n",
       "      <td>72</td>\n",
       "      <td>35</td>\n",
       "      <td>0</td>\n",
       "      <td>33.6</td>\n",
       "      <td>0.627</td>\n",
       "      <td>50</td>\n",
       "      <td>1</td>\n",
       "    </tr>\n",
       "    <tr>\n",
       "      <th>1</th>\n",
       "      <td>1</td>\n",
       "      <td>85</td>\n",
       "      <td>66</td>\n",
       "      <td>29</td>\n",
       "      <td>0</td>\n",
       "      <td>26.6</td>\n",
       "      <td>0.351</td>\n",
       "      <td>31</td>\n",
       "      <td>0</td>\n",
       "    </tr>\n",
       "    <tr>\n",
       "      <th>2</th>\n",
       "      <td>8</td>\n",
       "      <td>183</td>\n",
       "      <td>64</td>\n",
       "      <td>0</td>\n",
       "      <td>0</td>\n",
       "      <td>23.3</td>\n",
       "      <td>0.672</td>\n",
       "      <td>32</td>\n",
       "      <td>1</td>\n",
       "    </tr>\n",
       "    <tr>\n",
       "      <th>3</th>\n",
       "      <td>1</td>\n",
       "      <td>89</td>\n",
       "      <td>66</td>\n",
       "      <td>23</td>\n",
       "      <td>94</td>\n",
       "      <td>28.1</td>\n",
       "      <td>0.167</td>\n",
       "      <td>21</td>\n",
       "      <td>0</td>\n",
       "    </tr>\n",
       "    <tr>\n",
       "      <th>4</th>\n",
       "      <td>0</td>\n",
       "      <td>137</td>\n",
       "      <td>40</td>\n",
       "      <td>35</td>\n",
       "      <td>168</td>\n",
       "      <td>43.1</td>\n",
       "      <td>2.288</td>\n",
       "      <td>33</td>\n",
       "      <td>1</td>\n",
       "    </tr>\n",
       "  </tbody>\n",
       "</table>\n",
       "</div>"
      ],
      "text/plain": [
       "   Pregnancies  Glucose  BloodPressure  SkinThickness  Insulin   BMI  \\\n",
       "0            6      148             72             35        0  33.6   \n",
       "1            1       85             66             29        0  26.6   \n",
       "2            8      183             64              0        0  23.3   \n",
       "3            1       89             66             23       94  28.1   \n",
       "4            0      137             40             35      168  43.1   \n",
       "\n",
       "   DiabetesPedigreeFunction  Age  Outcome  \n",
       "0                     0.627   50        1  \n",
       "1                     0.351   31        0  \n",
       "2                     0.672   32        1  \n",
       "3                     0.167   21        0  \n",
       "4                     2.288   33        1  "
      ]
     },
     "execution_count": 59,
     "metadata": {},
     "output_type": "execute_result"
    }
   ],
   "source": [
    "dataframe.head()"
   ]
  },
  {
   "cell_type": "code",
   "execution_count": 60,
   "metadata": {},
   "outputs": [
    {
     "data": {
      "text/plain": [
       "(768, 9)"
      ]
     },
     "execution_count": 60,
     "metadata": {},
     "output_type": "execute_result"
    }
   ],
   "source": [
    "dataframe.shape"
   ]
  },
  {
   "cell_type": "code",
   "execution_count": 64,
   "metadata": {},
   "outputs": [
    {
     "data": {
      "text/plain": [
       "0    500\n",
       "1    268\n",
       "Name: Outcome, dtype: int64"
      ]
     },
     "execution_count": 64,
     "metadata": {},
     "output_type": "execute_result"
    }
   ],
   "source": [
    "dataframe.Outcome.value_counts()"
   ]
  },
  {
   "cell_type": "code",
   "execution_count": 65,
   "metadata": {},
   "outputs": [],
   "source": [
    "# convert to numpy arrays\n",
    "array = dataframe.values"
   ]
  },
  {
   "cell_type": "code",
   "execution_count": 66,
   "metadata": {},
   "outputs": [],
   "source": [
    "np.set_printoptions(suppress=True, linewidth=120)"
   ]
  },
  {
   "cell_type": "code",
   "execution_count": 67,
   "metadata": {},
   "outputs": [
    {
     "data": {
      "text/plain": [
       "array([[  6.   , 148.   ,  72.   ,  35.   ,   0.   ,  33.6  ,   0.627,  50.   ,   1.   ],\n",
       "       [  1.   ,  85.   ,  66.   ,  29.   ,   0.   ,  26.6  ,   0.351,  31.   ,   0.   ],\n",
       "       [  8.   , 183.   ,  64.   ,   0.   ,   0.   ,  23.3  ,   0.672,  32.   ,   1.   ],\n",
       "       [  1.   ,  89.   ,  66.   ,  23.   ,  94.   ,  28.1  ,   0.167,  21.   ,   0.   ],\n",
       "       [  0.   , 137.   ,  40.   ,  35.   , 168.   ,  43.1  ,   2.288,  33.   ,   1.   ]])"
      ]
     },
     "execution_count": 67,
     "metadata": {},
     "output_type": "execute_result"
    }
   ],
   "source": [
    "array[:5]"
   ]
  },
  {
   "cell_type": "code",
   "execution_count": 68,
   "metadata": {},
   "outputs": [],
   "source": [
    "X = array[:, 0:8]\n",
    "y = array[:, 8]"
   ]
  },
  {
   "cell_type": "code",
   "execution_count": 69,
   "metadata": {},
   "outputs": [],
   "source": [
    "from sklearn.model_selection import train_test_split"
   ]
  },
  {
   "cell_type": "code",
   "execution_count": 70,
   "metadata": {},
   "outputs": [],
   "source": [
    "# For testing, we choose to split our data to 75% train and 25% for test\n",
    "X_train, X_test, y_train, y_test = train_test_split(X, y, test_size=0.25)"
   ]
  },
  {
   "cell_type": "code",
   "execution_count": 71,
   "metadata": {},
   "outputs": [
    {
     "data": {
      "text/plain": [
       "((576, 8), (192, 8))"
      ]
     },
     "execution_count": 71,
     "metadata": {},
     "output_type": "execute_result"
    }
   ],
   "source": [
    "X_train.shape, X_test.shape"
   ]
  },
  {
   "cell_type": "code",
   "execution_count": 72,
   "metadata": {},
   "outputs": [
    {
     "data": {
      "text/plain": [
       "((576,), (192,))"
      ]
     },
     "execution_count": 72,
     "metadata": {},
     "output_type": "execute_result"
    }
   ],
   "source": [
    "y_train.shape, y_test.shape"
   ]
  },
  {
   "cell_type": "markdown",
   "metadata": {},
   "source": [
    "#### Try out just the decision tree as a model"
   ]
  },
  {
   "cell_type": "code",
   "execution_count": 73,
   "metadata": {},
   "outputs": [],
   "source": [
    "from sklearn.tree import DecisionTreeClassifier\n",
    "from sklearn import metrics"
   ]
  },
  {
   "cell_type": "code",
   "execution_count": 74,
   "metadata": {},
   "outputs": [
    {
     "data": {
      "text/plain": [
       "DecisionTreeClassifier()"
      ]
     },
     "execution_count": 74,
     "metadata": {},
     "output_type": "execute_result"
    }
   ],
   "source": [
    "# instantiate a decision tree\n",
    "dt = DecisionTreeClassifier()\n",
    "\n",
    "dt.fit(X_train, y_train)"
   ]
  },
  {
   "cell_type": "code",
   "execution_count": 75,
   "metadata": {},
   "outputs": [
    {
     "name": "stdout",
     "output_type": "stream",
     "text": [
      "Training accuracy :  1.0\n",
      "Testing accuracy  :  0.75\n"
     ]
    }
   ],
   "source": [
    "# accuracy on training data\n",
    "y_pred = dt.predict(X_train)\n",
    "print(\"Training accuracy : \", metrics.accuracy_score(y_train, y_pred))\n",
    "\n",
    "# accuracy on testing data\n",
    "y_pred = dt.predict(X_test)\n",
    "print(\"Testing accuracy  : \", metrics.accuracy_score(y_test, y_pred))"
   ]
  },
  {
   "cell_type": "markdown",
   "metadata": {},
   "source": [
    "use cross validate ...to detect overfitting..."
   ]
  },
  {
   "cell_type": "code",
   "execution_count": 76,
   "metadata": {},
   "outputs": [],
   "source": [
    "from sklearn.model_selection import cross_validate"
   ]
  },
  {
   "cell_type": "code",
   "execution_count": 77,
   "metadata": {},
   "outputs": [
    {
     "name": "stdout",
     "output_type": "stream",
     "text": [
      "  Training accuracy :  [1. 1. 1. 1. 1.]  mean :  1.0\n",
      "  testing  accuracy :  [0.68831169 0.65584416 0.68831169 0.78431373 0.69934641]  mean :  0.7\n",
      "\n",
      "  Training f1_macro :  [1. 1. 1. 1. 1.]  mean :  1.0\n",
      "  testing  f1_macro :  [0.63679245 0.6413096  0.65158371 0.75614586 0.65089286]  mean :  0.67\n",
      "\n",
      "  Training precision :  [1. 1. 1. 1. 1.]  mean :  1.0\n",
      "  testing  precision :  [0.65178571 0.64185848 0.655      0.76369048 0.66342495]  mean :  0.68\n",
      "\n",
      "  Training recall :  [1. 1. 1. 1. 1.]  mean :  1.0\n",
      "  testing  recall :  [0.63222222 0.65407407 0.64925926 0.75075472 0.64584906]  mean :  0.67\n"
     ]
    }
   ],
   "source": [
    "scoring = ['accuracy', 'f1_macro', 'precision_macro', 'recall_macro']\n",
    "\n",
    "scores = cross_validate(dt, \n",
    "                        X, \n",
    "                        y, \n",
    "                        cv=5, \n",
    "                        scoring=scoring, \n",
    "                        return_train_score=True \n",
    "                        #return_estimator=True\n",
    "                       )\n",
    "\n",
    "#print(scores.keys())\n",
    "print('  Training accuracy : ', scores['train_accuracy'], ' mean : ', round(scores['train_accuracy'].mean(), 2))\n",
    "print('  testing  accuracy : ', scores['test_accuracy'] , ' mean : ', round(scores['test_accuracy'].mean(),2 ))\n",
    "print()\n",
    "print('  Training f1_macro : ', scores['train_f1_macro'], ' mean : ', round(scores['train_f1_macro'].mean(), 2))\n",
    "print('  testing  f1_macro : ', scores['test_f1_macro'] , ' mean : ', round(scores['test_f1_macro'].mean(),2 ))\n",
    "print()\n",
    "print('  Training precision : ', scores['train_precision_macro'], ' mean : ', round(scores['train_precision_macro'].mean(), 2))\n",
    "print('  testing  precision : ', scores['test_precision_macro'] , ' mean : ', round(scores['test_precision_macro'].mean(),2 ))\n",
    "print()\n",
    "print('  Training recall : ', scores['train_recall_macro'], ' mean : ', round(scores['train_recall_macro'].mean(), 2))\n",
    "print('  testing  recall : ', scores['test_recall_macro'] , ' mean : ', round(scores['test_recall_macro'].mean(),2 ))"
   ]
  },
  {
   "cell_type": "markdown",
   "metadata": {},
   "source": [
    "#### Try out random forest classifier"
   ]
  },
  {
   "cell_type": "code",
   "execution_count": 78,
   "metadata": {},
   "outputs": [],
   "source": [
    "from sklearn.ensemble import RandomForestClassifier"
   ]
  },
  {
   "cell_type": "code",
   "execution_count": 79,
   "metadata": {},
   "outputs": [
    {
     "data": {
      "text/plain": [
       "RandomForestClassifier(n_estimators=50)"
      ]
     },
     "execution_count": 79,
     "metadata": {},
     "output_type": "execute_result"
    }
   ],
   "source": [
    "rf = RandomForestClassifier(n_estimators=50)\n",
    "\n",
    "rf.fit(X_train, y_train)"
   ]
  },
  {
   "cell_type": "code",
   "execution_count": 80,
   "metadata": {},
   "outputs": [
    {
     "name": "stdout",
     "output_type": "stream",
     "text": [
      "Training accuracy :  1.0\n",
      "Testing accuracy  :  0.7239583333333334\n"
     ]
    }
   ],
   "source": [
    "# accuracy on training data\n",
    "y_pred = rf.predict(X_train)\n",
    "print(\"Training accuracy : \", metrics.accuracy_score(y_train, y_pred))\n",
    "\n",
    "# accuracy on testing data\n",
    "y_pred = rf.predict(X_test)\n",
    "print(\"Testing accuracy  : \", metrics.accuracy_score(y_test, y_pred))"
   ]
  },
  {
   "cell_type": "code",
   "execution_count": 81,
   "metadata": {},
   "outputs": [
    {
     "name": "stdout",
     "output_type": "stream",
     "text": [
      "  Training accuracy :  [1.         0.99837134 1.         1.         0.99837398]  mean :  1.0\n",
      "  testing  accuracy :  [0.76623377 0.74025974 0.75324675 0.82352941 0.76470588]  mean :  0.77\n",
      "\n",
      "  Training f1_macro :  [1.         0.99820482 1.         1.         0.99821028]  mean :  1.0\n",
      "  testing  f1_macro :  [0.73868778 0.71231085 0.69772727 0.79623144 0.72023568]  mean :  0.73\n",
      "\n",
      "  Training precision :  [1.         0.99875312 1.         1.         0.99875312]  mean :  1.0\n",
      "  testing  precision :  [0.74384615 0.71436652 0.74681373 0.81515847 0.74932524]  mean :  0.75\n",
      "\n",
      "  Training recall :  [1.         0.99766355 1.         1.         0.99767442]  mean :  1.0\n",
      "  testing  recall :  [0.73481481 0.71055556 0.68648148 0.78518868 0.70915094]  mean :  0.73\n"
     ]
    }
   ],
   "source": [
    "scoring = ['accuracy', 'f1_macro', 'precision_macro', 'recall_macro']\n",
    "\n",
    "scores = cross_validate(rf, \n",
    "                        X, \n",
    "                        y, \n",
    "                        cv=5, \n",
    "                        scoring=scoring, \n",
    "                        return_train_score=True \n",
    "                        #return_estimator=True\n",
    "                       )\n",
    "\n",
    "print('  Training accuracy : ', scores['train_accuracy'], ' mean : ', round(scores['train_accuracy'].mean(), 2))\n",
    "print('  testing  accuracy : ', scores['test_accuracy'] , ' mean : ', round(scores['test_accuracy'].mean(),2 ))\n",
    "print()\n",
    "print('  Training f1_macro : ', scores['train_f1_macro'], ' mean : ', round(scores['train_f1_macro'].mean(), 2))\n",
    "print('  testing  f1_macro : ', scores['test_f1_macro'] , ' mean : ', round(scores['test_f1_macro'].mean(),2 ))\n",
    "print()\n",
    "print('  Training precision : ', scores['train_precision_macro'], ' mean : ', round(scores['train_precision_macro'].mean(), 2))\n",
    "print('  testing  precision : ', scores['test_precision_macro'] , ' mean : ', round(scores['test_precision_macro'].mean(),2 ))\n",
    "print()\n",
    "print('  Training recall : ', scores['train_recall_macro'], ' mean : ', round(scores['train_recall_macro'].mean(), 2))\n",
    "print('  testing  recall : ', scores['test_recall_macro'] , ' mean : ', round(scores['test_recall_macro'].mean(),2 ))"
   ]
  },
  {
   "cell_type": "markdown",
   "metadata": {},
   "source": [
    "- Overfitting case - can we improve this ?\n",
    "\n",
    "max_depth = 4\n"
   ]
  },
  {
   "cell_type": "code",
   "execution_count": 82,
   "metadata": {},
   "outputs": [
    {
     "data": {
      "text/plain": [
       "{'bootstrap': True,\n",
       " 'ccp_alpha': 0.0,\n",
       " 'class_weight': None,\n",
       " 'criterion': 'gini',\n",
       " 'max_depth': None,\n",
       " 'max_features': 'auto',\n",
       " 'max_leaf_nodes': None,\n",
       " 'max_samples': None,\n",
       " 'min_impurity_decrease': 0.0,\n",
       " 'min_samples_leaf': 1,\n",
       " 'min_samples_split': 2,\n",
       " 'min_weight_fraction_leaf': 0.0,\n",
       " 'n_estimators': 50,\n",
       " 'n_jobs': None,\n",
       " 'oob_score': False,\n",
       " 'random_state': None,\n",
       " 'verbose': 0,\n",
       " 'warm_start': False}"
      ]
     },
     "execution_count": 82,
     "metadata": {},
     "output_type": "execute_result"
    }
   ],
   "source": [
    "rf.get_params()"
   ]
  },
  {
   "cell_type": "code",
   "execution_count": 83,
   "metadata": {},
   "outputs": [
    {
     "name": "stdout",
     "output_type": "stream",
     "text": [
      "Training accuracy : 0.8645833333333334\n",
      "Testing accuracy : 0.75\n"
     ]
    }
   ],
   "source": [
    "rf = RandomForestClassifier(n_estimators=50, max_depth=5, random_state=444)\n",
    "\n",
    "rf.fit(X_train, y_train)\n",
    "\n",
    "# accuracy on training data\n",
    "y_pred = rf.predict(X_train)\n",
    "print('Training accuracy : {}'.format(metrics.accuracy_score(y_train, y_pred)))\n",
    "\n",
    "# accuracy on testing data\n",
    "y_pred = rf.predict(X_test)\n",
    "print('Testing accuracy : {}'.format(metrics.accuracy_score(y_test, y_pred)))"
   ]
  },
  {
   "cell_type": "markdown",
   "metadata": {},
   "source": [
    "#### Try out Logistic regression"
   ]
  },
  {
   "cell_type": "code",
   "execution_count": 84,
   "metadata": {},
   "outputs": [],
   "source": [
    "from sklearn.linear_model import LogisticRegression"
   ]
  },
  {
   "cell_type": "code",
   "execution_count": 85,
   "metadata": {},
   "outputs": [
    {
     "name": "stdout",
     "output_type": "stream",
     "text": [
      "Training accuracy : 0.796875\n",
      "Testing accuracy : 0.7447916666666666\n"
     ]
    }
   ],
   "source": [
    "lr = LogisticRegression(solver='lbfgs', max_iter=50000)\n",
    "\n",
    "lr.fit(X_train, y_train)\n",
    "\n",
    "# accuracy on training data\n",
    "y_pred = lr.predict(X_train)\n",
    "print('Training accuracy : {}'.format(metrics.accuracy_score(y_train, y_pred)))\n",
    "\n",
    "# accuracy on testing data\n",
    "y_pred = lr.predict(X_test)\n",
    "print('Testing accuracy : {}'.format(metrics.accuracy_score(y_test, y_pred)))"
   ]
  },
  {
   "cell_type": "markdown",
   "metadata": {},
   "source": [
    "#### Try KNN"
   ]
  },
  {
   "cell_type": "code",
   "execution_count": 86,
   "metadata": {},
   "outputs": [],
   "source": [
    "from sklearn.neighbors import KNeighborsClassifier"
   ]
  },
  {
   "cell_type": "code",
   "execution_count": 87,
   "metadata": {},
   "outputs": [
    {
     "name": "stdout",
     "output_type": "stream",
     "text": [
      "Training accuracy : 0.7951388888888888\n",
      "Testing accuracy : 0.6979166666666666\n"
     ]
    }
   ],
   "source": [
    "knn = KNeighborsClassifier(n_neighbors=7, weights='uniform', metric='minkowski', p=4)\n",
    "\n",
    "knn.fit(X_train, y_train)\n",
    "\n",
    "# accuracy on training data\n",
    "y_pred = knn.predict(X_train)\n",
    "print('Training accuracy : {}'.format(metrics.accuracy_score(y_train, y_pred)))\n",
    "\n",
    "# accuracy on testing data\n",
    "y_pred = knn.predict(X_test)\n",
    "print('Testing accuracy : {}'.format(metrics.accuracy_score(y_test, y_pred)))"
   ]
  },
  {
   "cell_type": "markdown",
   "metadata": {},
   "source": [
    "#### try out bagging classifier with decision tree"
   ]
  },
  {
   "cell_type": "code",
   "execution_count": 88,
   "metadata": {},
   "outputs": [
    {
     "name": "stdout",
     "output_type": "stream",
     "text": [
      "Training accuracy : 0.890625\n",
      "Testing accuracy : 0.7552083333333334\n"
     ]
    }
   ],
   "source": [
    "# instatiate the bagging classifier\n",
    "num_trees = 100\n",
    "\n",
    "# instantiate a decision tree\n",
    "base_dt = DecisionTreeClassifier(max_depth=5)\n",
    "\n",
    "bgg_dt = BaggingClassifier(base_estimator=base_dt, \n",
    "                           n_estimators  =num_trees)\n",
    "\n",
    "bgg_dt.fit(X_train, y_train)\n",
    "\n",
    "# accuracy on training data\n",
    "y_pred = bgg_dt.predict(X_train)\n",
    "print('Training accuracy : {}'.format(metrics.accuracy_score(y_train, y_pred)))\n",
    "\n",
    "# accuracy on testing data\n",
    "y_pred = bgg_dt.predict(X_test)\n",
    "print('Testing accuracy : {}'.format(metrics.accuracy_score(y_test, y_pred)))"
   ]
  },
  {
   "cell_type": "markdown",
   "metadata": {},
   "source": [
    "#### try out bagging classifier with RF"
   ]
  },
  {
   "cell_type": "code",
   "execution_count": 89,
   "metadata": {},
   "outputs": [
    {
     "name": "stdout",
     "output_type": "stream",
     "text": [
      "Training accuracy : 0.84375\n",
      "Testing accuracy : 0.75\n"
     ]
    }
   ],
   "source": [
    "# instatiate the bagging classifier\n",
    "num_trees = 5\n",
    "\n",
    "# instantiate a random forest\n",
    "base_rf = RandomForestClassifier(max_depth=4, \n",
    "                                 n_estimators=50)\n",
    "\n",
    "bgg_rf  = BaggingClassifier(base_estimator=rf, \n",
    "                            n_estimators=num_trees)\n",
    "\n",
    "bgg_rf.fit(X_train, y_train)\n",
    "\n",
    "# accuracy on training data\n",
    "y_pred = bgg_rf.predict(X_train)\n",
    "print('Training accuracy : {}'.format(metrics.accuracy_score(y_train, y_pred)))\n",
    "\n",
    "# accuracy on testing data\n",
    "y_pred = bgg_rf.predict(X_test)\n",
    "print('Testing accuracy : {}'.format(metrics.accuracy_score(y_test, y_pred)))"
   ]
  },
  {
   "cell_type": "markdown",
   "metadata": {},
   "source": [
    "#### try out bagging classifier with KNN"
   ]
  },
  {
   "cell_type": "code",
   "execution_count": 90,
   "metadata": {},
   "outputs": [
    {
     "name": "stdout",
     "output_type": "stream",
     "text": [
      "Training accuracy : 0.7899305555555556\n",
      "Testing accuracy : 0.703125\n"
     ]
    }
   ],
   "source": [
    "# instatiate the bagging classifier\n",
    "num_trees = 5\n",
    "\n",
    "# instantiate a random forest\n",
    "base_knn = KNeighborsClassifier(n_neighbors=7, \n",
    "                                weights='uniform', \n",
    "                                metric='minkowski', \n",
    "                                p=4)\n",
    "\n",
    "bgg_knn  = BaggingClassifier(base_estimator=base_knn, \n",
    "                             n_estimators  =num_trees)\n",
    "\n",
    "bgg_knn.fit(X_train, y_train)\n",
    "\n",
    "# accuracy on training data\n",
    "y_pred = bgg_knn.predict(X_train)\n",
    "print('Training accuracy : {}'.format(metrics.accuracy_score(y_train, y_pred)))\n",
    "\n",
    "# accuracy on testing data\n",
    "y_pred = bgg_knn.predict(X_test)\n",
    "print('Testing accuracy : {}'.format(metrics.accuracy_score(y_test, y_pred)))"
   ]
  },
  {
   "cell_type": "markdown",
   "metadata": {},
   "source": [
    "#### try out bagging classifier with LR"
   ]
  },
  {
   "cell_type": "code",
   "execution_count": 91,
   "metadata": {},
   "outputs": [
    {
     "name": "stdout",
     "output_type": "stream",
     "text": [
      "Training accuracy : 0.7934027777777778\n",
      "Testing accuracy : 0.7447916666666666\n"
     ]
    }
   ],
   "source": [
    "# instatiate the bagging classifier\n",
    "num_trees = 5\n",
    "\n",
    "# instantiate a random forest\n",
    "base_lr = LogisticRegression(solver='lbfgs', max_iter=50000)\n",
    "\n",
    "bgg_lr  = BaggingClassifier(base_estimator=lr, \n",
    "                            n_estimators=num_trees)\n",
    "\n",
    "bgg_lr.fit(X_train, y_train)\n",
    "\n",
    "# accuracy on training data\n",
    "y_pred = bgg_lr.predict(X_train)\n",
    "print('Training accuracy : {}'.format(metrics.accuracy_score(y_train, y_pred)))\n",
    "\n",
    "# accuracy on testing data\n",
    "y_pred = bgg_lr.predict(X_test)\n",
    "print('Testing accuracy : {}'.format(metrics.accuracy_score(y_test, y_pred)))"
   ]
  },
  {
   "cell_type": "markdown",
   "metadata": {},
   "source": [
    "#### But why the overfitting???"
   ]
  },
  {
   "cell_type": "markdown",
   "metadata": {},
   "source": [
    "#### let us try `learning curve`"
   ]
  },
  {
   "cell_type": "code",
   "execution_count": 95,
   "metadata": {},
   "outputs": [],
   "source": [
    "from sklearn.model_selection import cross_validate\n",
    "from sklearn.model_selection import learning_curve\n",
    "import matplotlib.pyplot as plt"
   ]
  },
  {
   "cell_type": "code",
   "execution_count": 96,
   "metadata": {},
   "outputs": [],
   "source": [
    "models = [dt,                rf,              knn,           lr, \n",
    "          bgg_dt,            bgg_rf,          bgg_knn,       bgg_lr\n",
    "         ]\n",
    "\n",
    "labels = ['Decision Trees', 'Random Forest', 'KNN',         'Logistic Regression', \n",
    "          'Bagging-DT',     'Bagging-RF',    'Bagging-KNN', 'Bagging-LR'\n",
    "         ]"
   ]
  },
  {
   "cell_type": "code",
   "execution_count": 97,
   "metadata": {},
   "outputs": [
    {
     "name": "stdout",
     "output_type": "stream",
     "text": [
      "CPU times: total: 1min 15s\n",
      "Wall time: 48.8 s\n"
     ]
    },
    {
     "data": {
      "text/plain": [
       "<matplotlib.legend.Legend at 0x171de298580>"
      ]
     },
     "execution_count": 97,
     "metadata": {},
     "output_type": "execute_result"
    },
    {
     "data": {
      "image/png": "[encoded data removed]",
      "text/plain": [
       "<Figure size 1296x720 with 8 Axes>"
      ]
     },
     "metadata": {
      "needs_background": "light"
     },
     "output_type": "display_data"
    }
   ],
   "source": [
    "%%time\n",
    "fig, ax = plt.subplots(nrows=2, ncols=4, figsize=(18, 10), sharex=True, sharey=True)\n",
    "\n",
    "plt_nbr_row = 0\n",
    "plt_nbr_col = 0\n",
    "\n",
    "fig.suptitle('Learning curves - of Machine learning models', fontsize = 20) # or plt.suptitle('Main title')\n",
    "\n",
    "for clf, label in zip(models, labels):\n",
    "    \n",
    "    # execute the learning curve\n",
    "    train_sizes, train_scores, test_scores = learning_curve(estimator=clf,\n",
    "                                                            X=X_train,\n",
    "                                                            y=y_train,\n",
    "                                                            train_sizes=np.linspace(0.1, 1.0, 10),\n",
    "                                                            cv=10\n",
    "                                                         )\n",
    "    train_mean = np.mean(train_scores, axis=1)\n",
    "    train_std  = np.std(train_scores,  axis=1)\n",
    "\n",
    "    test_mean  = np.mean(test_scores, axis=1)\n",
    "    test_std   = np.std(test_scores,  axis=1)\n",
    "    \n",
    "    ax[plt_nbr_row, plt_nbr_col].plot(  train_sizes, \n",
    "                                         train_mean,\n",
    "                                         color='blue', \n",
    "                                         marker='o',\n",
    "                                         markersize=5,\n",
    "                                         label='training accuracy')\n",
    "\n",
    "    ax[plt_nbr_row, plt_nbr_col].fill_between(  train_sizes,\n",
    "                                                 train_mean + train_std,\n",
    "                                                 train_mean - train_std,\n",
    "                                                 alpha=0.15, \n",
    "                                                 color='blue')  \n",
    "\n",
    "    ax[plt_nbr_row, plt_nbr_col].plot(  train_sizes, \n",
    "                                         test_mean,\n",
    "                                         color='green', \n",
    "                                         linestyle='--',\n",
    "                                         marker='s', \n",
    "                                         markersize=5,\n",
    "                                         label='validation accuracy')\n",
    "\n",
    "    ax[plt_nbr_row, plt_nbr_col].fill_between(  train_sizes,\n",
    "                                                 test_mean + test_std,\n",
    "                                                 test_mean - test_std,\n",
    "                                                 alpha=0.15, \n",
    "                                                 color='green')\n",
    "\n",
    "    ax[plt_nbr_row, plt_nbr_col].grid()\n",
    "    ax[plt_nbr_row, plt_nbr_col].set_xlabel('Number of training samples')\n",
    "    ax[plt_nbr_row, plt_nbr_col].set_ylabel('Accuracy')\n",
    "    ax[plt_nbr_row, plt_nbr_col].set_title(label)\n",
    "    #ax[plt_nbr_row, plt_nbr_col].legend(loc='lower right')\n",
    "    \n",
    "    plt_nbr_col +=1 \n",
    "    \n",
    "    if plt_nbr_col > 3:\n",
    "        plt_nbr_col  = 0\n",
    "        plt_nbr_row += 1\n",
    "        \n",
    "lines, labels = ax[0,0].get_legend_handles_labels()\n",
    "fig.legend(lines, labels, loc = 'upper left');"
   ]
  },
  {
   "cell_type": "code",
   "execution_count": null,
   "metadata": {},
   "outputs": [],
   "source": []
  }
 ],
 "metadata": {
  "kernelspec": {
   "display_name": "Python 3 (ipykernel)",
   "language": "python",
   "name": "python3"
  },
  "language_info": {
   "codemirror_mode": {
    "name": "ipython",
    "version": 3
   },
   "file_extension": ".py",
   "mimetype": "text/x-python",
   "name": "python",
   "nbconvert_exporter": "python",
   "pygments_lexer": "ipython3",
   "version": "3.9.12"
  }
 },
 "nbformat": 4,
 "nbformat_minor": 4
}
